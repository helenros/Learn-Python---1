{
  "nbformat": 4,
  "nbformat_minor": 0,
  "metadata": {
    "colab": {
      "name": "Python - Day 2.ipynb",
      "provenance": []
    },
    "kernelspec": {
      "name": "python3",
      "display_name": "Python 3"
    }
  },
  "cells": [
    {
      "cell_type": "markdown",
      "metadata": {
        "id": "cukSIGShHhPZ",
        "colab_type": "text"
      },
      "source": [
        "## Object Oriented Programming"
      ]
    },
    {
      "cell_type": "code",
      "metadata": {
        "id": "SJfHEGa9Hkh-",
        "colab_type": "code",
        "colab": {}
      },
      "source": [
        "class Circle():\n",
        "        def __init__(self, r):\n",
        "              self.radius = r\n",
        "        def area(self):\n",
        "              return self.radius**2*3.14\n",
        "        def perimeter(self):\n",
        "              return 2*self.radius*3.14       \n",
        "        "
      ],
      "execution_count": 43,
      "outputs": []
    },
    {
      "cell_type": "code",
      "metadata": {
        "id": "qjeD-4JtHwPy",
        "colab_type": "code",
        "colab": {
          "base_uri": "https://localhost:8080/",
          "height": 69
        },
        "outputId": "4b2d1937-c730-4199-9cfe-327d01d7425e"
      },
      "source": [
        "rad = input (\"Enter Radius :\")\n",
        "r1=float(rad)\n",
        "NewCircle = Circle(r1)\n",
        "print(NewCircle.area())\n",
        "print(NewCircle.perimeter())"
      ],
      "execution_count": 45,
      "outputs": [
        {
          "output_type": "stream",
          "text": [
            "Enter Radius :4\n",
            "50.24\n",
            "25.12\n"
          ],
          "name": "stdout"
        }
      ]
    },
    {
      "cell_type": "markdown",
      "metadata": {
        "id": "G37tbK8KNTDv",
        "colab_type": "text"
      },
      "source": [
        "# Inheritance"
      ]
    },
    {
      "cell_type": "code",
      "metadata": {
        "id": "heZCmF58NpZi",
        "colab_type": "code",
        "colab": {
          "base_uri": "https://localhost:8080/",
          "height": 34
        },
        "outputId": "7e134598-5a44-4dce-a77c-a750eebcd38b"
      },
      "source": [
        "class Person(object): \n",
        "       \n",
        "    # Constructor \n",
        "    def __init__(self, name): \n",
        "        self.name = name \n",
        "   \n",
        "    # To get name \n",
        "    def getName(self): \n",
        "        return self.name \n",
        "   \n",
        "    # To check if this person is an employee \n",
        "    def isEmployee(self): \n",
        "        return False\n",
        "   \n",
        "   \n",
        "# Inherited or Subclass (Note Person in bracket) \n",
        "class Employee(Person): \n",
        "   \n",
        "    # Here we return true \n",
        "    def isEmployee(self): \n",
        "        return True\n",
        "   \n",
        "# Driver code \n",
        "emp = Person(\"John\")  # An Object of Person \n",
        "print(emp.getName(), emp.isEmployee()) \n",
        "   \n"
      ],
      "execution_count": 46,
      "outputs": [
        {
          "output_type": "stream",
          "text": [
            "John False\n"
          ],
          "name": "stdout"
        }
      ]
    },
    {
      "cell_type": "code",
      "metadata": {
        "id": "arg4wMNEFcmk",
        "colab_type": "code",
        "colab": {
          "base_uri": "https://localhost:8080/",
          "height": 34
        },
        "outputId": "445e7ff1-8435-40f3-8ac5-367e26142465"
      },
      "source": [
        "emp = Employee(\"Sharma\") # An Object of Employee \n",
        "print(emp.getName(), emp.isEmployee()) "
      ],
      "execution_count": 47,
      "outputs": [
        {
          "output_type": "stream",
          "text": [
            "Sharma True\n"
          ],
          "name": "stdout"
        }
      ]
    },
    {
      "cell_type": "code",
      "metadata": {
        "id": "5lzU_o4YOAlq",
        "colab_type": "code",
        "colab": {
          "base_uri": "https://localhost:8080/",
          "height": 54
        },
        "outputId": "f6f98d46-9189-44a5-f6f8-07e881792b53"
      },
      "source": [
        "# parent class \n",
        "class Person( object ):     \n",
        "  \n",
        "        # __init__ is known as the constructor          \n",
        "        def __init__(self, name, idnumber):    \n",
        "                self.name = name \n",
        "                self.idnumber = idnumber \n",
        "        def display(self): \n",
        "                print(self.name) \n",
        "                print(self.idnumber) \n",
        "  \n",
        "# child class \n",
        "class Employee( Person ):            \n",
        "        def __init__(self, name, idnumber, salary, post): \n",
        "                self.salary = salary \n",
        "                self.post = post \n",
        "  \n",
        "                # invoking the __init__ of the parent class  \n",
        "                Person.__init__(self, name, idnumber)  \n",
        "  \n",
        "                  \n",
        "# creation of an object variable or an instance \n",
        "a = Employee('Rahul', 886012,50000,\"Manager\")     \n",
        "  \n",
        "# calling a function of the class Person using its instance \n",
        "a.display()  "
      ],
      "execution_count": null,
      "outputs": [
        {
          "output_type": "stream",
          "text": [
            "Rahul\n",
            "886012\n"
          ],
          "name": "stdout"
        }
      ]
    },
    {
      "cell_type": "markdown",
      "metadata": {
        "id": "UVgbc8c6Zq9t",
        "colab_type": "text"
      },
      "source": [
        "# List Comprehension"
      ]
    },
    {
      "cell_type": "code",
      "metadata": {
        "id": "xYAblS8LZtYy",
        "colab_type": "code",
        "colab": {
          "base_uri": "https://localhost:8080/",
          "height": 34
        },
        "outputId": "437f8b5a-2601-4090-e4dc-265c507a0bf5"
      },
      "source": [
        "listOfWords = [\"this\",\"is\",\"a\",\"list\",\"of\",\"words\"]\n",
        "items = [ word[0] for word in listOfWords ]\n",
        "print(items)"
      ],
      "execution_count": 48,
      "outputs": [
        {
          "output_type": "stream",
          "text": [
            "['t', 'i', 'a', 'l', 'o', 'w']\n"
          ],
          "name": "stdout"
        }
      ]
    },
    {
      "cell_type": "code",
      "metadata": {
        "id": "bXpjFkB3Z9qZ",
        "colab_type": "code",
        "colab": {
          "base_uri": "https://localhost:8080/",
          "height": 34
        },
        "outputId": "94bf1ef8-8154-4d6d-88ad-4362c7a8d8db"
      },
      "source": [
        "string = \"He7llo 12345 Wo8rld\"\n",
        "numbers = [x for x in string if x.isdigit()]\n",
        "print(numbers)"
      ],
      "execution_count": 49,
      "outputs": [
        {
          "output_type": "stream",
          "text": [
            "['7', '1', '2', '3', '4', '5', '8']\n"
          ],
          "name": "stdout"
        }
      ]
    },
    {
      "cell_type": "code",
      "metadata": {
        "id": "sOtBDExVKJpm",
        "colab_type": "code",
        "colab": {}
      },
      "source": [
        ""
      ],
      "execution_count": null,
      "outputs": []
    },
    {
      "cell_type": "code",
      "metadata": {
        "id": "8N9kf_23agje",
        "colab_type": "code",
        "colab": {
          "base_uri": "https://localhost:8080/",
          "height": 34
        },
        "outputId": "53839d1e-63aa-4644-9d59-588532117424"
      },
      "source": [
        "fileh = open(\"test.txt\", \"r\")\n",
        "result = [i for i in fileh if \"line 2\" in i]\n",
        "print(result)"
      ],
      "execution_count": 52,
      "outputs": [
        {
          "output_type": "stream",
          "text": [
            "['line 2 :  Start your coding with python\\n']\n"
          ],
          "name": "stdout"
        }
      ]
    },
    {
      "cell_type": "markdown",
      "metadata": {
        "id": "ukw-gtqfRlWj",
        "colab_type": "text"
      },
      "source": [
        "# Iterator"
      ]
    },
    {
      "cell_type": "code",
      "metadata": {
        "id": "EUJElwEVQ3rg",
        "colab_type": "code",
        "colab": {
          "base_uri": "https://localhost:8080/",
          "height": 51
        },
        "outputId": "937a99e8-cd3f-40f1-a1bf-de93582dca8a"
      },
      "source": [
        "# define a list\n",
        "my_list = [4, 7, 10.0, \"abc\"]\n",
        "\n",
        "# get an iterator using iter()\n",
        "my_iter = iter(my_list)\n",
        "\n",
        "# iterate through it using next()\n",
        "\n",
        "# Output: 4\n",
        "print(next(my_iter))\n",
        "\n",
        "# Output: 7\n",
        "print(next(my_iter))\n",
        "\n",
        "# next(obj) is same as obj.__next__()\n",
        "\n"
      ],
      "execution_count": 53,
      "outputs": [
        {
          "output_type": "stream",
          "text": [
            "4\n",
            "7\n"
          ],
          "name": "stdout"
        }
      ]
    },
    {
      "cell_type": "code",
      "metadata": {
        "id": "sL3jB_zKQknf",
        "colab_type": "code",
        "colab": {}
      },
      "source": [
        "list1=[\"Jan\", \"Feb\",\"Mar\"]"
      ],
      "execution_count": 67,
      "outputs": []
    },
    {
      "cell_type": "code",
      "metadata": {
        "id": "RdUvBZi4Q5bt",
        "colab_type": "code",
        "colab": {}
      },
      "source": [
        "list1 = iter(list1)"
      ],
      "execution_count": 68,
      "outputs": []
    },
    {
      "cell_type": "code",
      "metadata": {
        "id": "YGlR136qQ92q",
        "colab_type": "code",
        "colab": {
          "base_uri": "https://localhost:8080/",
          "height": 34
        },
        "outputId": "9236d99d-584f-427e-bb8f-62020463c8d5"
      },
      "source": [
        "print(next(list1))"
      ],
      "execution_count": 69,
      "outputs": [
        {
          "output_type": "stream",
          "text": [
            "Jan\n"
          ],
          "name": "stdout"
        }
      ]
    },
    {
      "cell_type": "code",
      "metadata": {
        "id": "ZAFByxFeRCyj",
        "colab_type": "code",
        "colab": {
          "base_uri": "https://localhost:8080/",
          "height": 34
        },
        "outputId": "da830f17-5769-4e4c-8cc0-a57f685212fd"
      },
      "source": [
        "print(next(list1))"
      ],
      "execution_count": 70,
      "outputs": [
        {
          "output_type": "stream",
          "text": [
            "Feb\n"
          ],
          "name": "stdout"
        }
      ]
    },
    {
      "cell_type": "code",
      "metadata": {
        "id": "cH71AD4rRG2h",
        "colab_type": "code",
        "colab": {
          "base_uri": "https://localhost:8080/",
          "height": 34
        },
        "outputId": "fabf3884-31cd-4a1f-86fd-9a0f485fc16a"
      },
      "source": [
        "print(next(list1))"
      ],
      "execution_count": 71,
      "outputs": [
        {
          "output_type": "stream",
          "text": [
            "Mar\n"
          ],
          "name": "stdout"
        }
      ]
    },
    {
      "cell_type": "code",
      "metadata": {
        "id": "y1oefs1dRIqm",
        "colab_type": "code",
        "colab": {
          "base_uri": "https://localhost:8080/",
          "height": 164
        },
        "outputId": "f7e8a924-7df2-49bf-c1dd-8beed9b47022"
      },
      "source": [
        "print(next(list1))"
      ],
      "execution_count": 72,
      "outputs": [
        {
          "output_type": "error",
          "ename": "StopIteration",
          "evalue": "ignored",
          "traceback": [
            "\u001b[0;31m---------------------------------------------------------------------------\u001b[0m",
            "\u001b[0;31mStopIteration\u001b[0m                             Traceback (most recent call last)",
            "\u001b[0;32m<ipython-input-72-30f34814e553>\u001b[0m in \u001b[0;36m<module>\u001b[0;34m()\u001b[0m\n\u001b[0;32m----> 1\u001b[0;31m \u001b[0mprint\u001b[0m\u001b[0;34m(\u001b[0m\u001b[0mnext\u001b[0m\u001b[0;34m(\u001b[0m\u001b[0mlist1\u001b[0m\u001b[0;34m)\u001b[0m\u001b[0;34m)\u001b[0m\u001b[0;34m\u001b[0m\u001b[0;34m\u001b[0m\u001b[0m\n\u001b[0m",
            "\u001b[0;31mStopIteration\u001b[0m: "
          ]
        }
      ]
    },
    {
      "cell_type": "code",
      "metadata": {
        "id": "2KY9gJXGQ_Gu",
        "colab_type": "code",
        "colab": {
          "base_uri": "https://localhost:8080/",
          "height": 51
        },
        "outputId": "838a560f-b9fa-4b60-9a69-1295f0c6d119"
      },
      "source": [
        "# Output: 0\n",
        "print(my_iter.__next__())\n",
        "\n",
        "# Output: 3\n",
        "print(my_iter.__next__())\n"
      ],
      "execution_count": 54,
      "outputs": [
        {
          "output_type": "stream",
          "text": [
            "10.0\n",
            "abc\n"
          ],
          "name": "stdout"
        }
      ]
    },
    {
      "cell_type": "code",
      "metadata": {
        "id": "Q2AG_GAzREYO",
        "colab_type": "code",
        "colab": {
          "base_uri": "https://localhost:8080/",
          "height": 182
        },
        "outputId": "26b5567c-78c7-4f38-cd6d-c2557d1e59a9"
      },
      "source": [
        "# This will raise error, no items left\n",
        "next(my_iter)"
      ],
      "execution_count": 55,
      "outputs": [
        {
          "output_type": "error",
          "ename": "StopIteration",
          "evalue": "ignored",
          "traceback": [
            "\u001b[0;31m---------------------------------------------------------------------------\u001b[0m",
            "\u001b[0;31mStopIteration\u001b[0m                             Traceback (most recent call last)",
            "\u001b[0;32m<ipython-input-55-8aa6b2558394>\u001b[0m in \u001b[0;36m<module>\u001b[0;34m()\u001b[0m\n\u001b[1;32m      1\u001b[0m \u001b[0;31m# This will raise error, no items left\u001b[0m\u001b[0;34m\u001b[0m\u001b[0;34m\u001b[0m\u001b[0;34m\u001b[0m\u001b[0m\n\u001b[0;32m----> 2\u001b[0;31m \u001b[0mnext\u001b[0m\u001b[0;34m(\u001b[0m\u001b[0mmy_iter\u001b[0m\u001b[0;34m)\u001b[0m\u001b[0;34m\u001b[0m\u001b[0;34m\u001b[0m\u001b[0m\n\u001b[0m",
            "\u001b[0;31mStopIteration\u001b[0m: "
          ]
        }
      ]
    },
    {
      "cell_type": "code",
      "metadata": {
        "id": "K4qnHprLO1wh",
        "colab_type": "code",
        "colab": {}
      },
      "source": [
        "class PowTwo:\n",
        "    \"\"\"Class to implement an iterator\n",
        "    of powers of two\"\"\"\n",
        "\n",
        "    def __init__(self, max=0):\n",
        "        self.max = max\n",
        "\n",
        "    def __iter__(self):\n",
        "        self.n = 0\n",
        "        return self\n",
        "\n",
        "    def __next__(self):\n",
        "        if self.n <= self.max:\n",
        "            result = 2 ** self.n\n",
        "            self.n += 1\n",
        "            return result\n",
        "        else:\n",
        "            raise StopIteration\n",
        "\n",
        "\n"
      ],
      "execution_count": 56,
      "outputs": []
    },
    {
      "cell_type": "code",
      "metadata": {
        "id": "q95kXQq8PzmW",
        "colab_type": "code",
        "colab": {
          "base_uri": "https://localhost:8080/",
          "height": 86
        },
        "outputId": "6b396762-f603-4b26-cc56-668e72d927d1"
      },
      "source": [
        "# create an object\n",
        "numbers = PowTwo(3)\n",
        "\n",
        "# create an iterable from the object\n",
        "i = iter(numbers)\n",
        "\n",
        "# Using next to get to the next iterator element\n",
        "print(next(i))\n",
        "print(next(i))\n",
        "print(next(i))\n",
        "print(next(i))\n"
      ],
      "execution_count": 57,
      "outputs": [
        {
          "output_type": "stream",
          "text": [
            "1\n",
            "2\n",
            "4\n",
            "8\n"
          ],
          "name": "stdout"
        }
      ]
    },
    {
      "cell_type": "code",
      "metadata": {
        "id": "QdOdAYRoRRP3",
        "colab_type": "code",
        "colab": {
          "base_uri": "https://localhost:8080/",
          "height": 284
        },
        "outputId": "8b565225-0717-48df-cc22-f22f526e62d2"
      },
      "source": [
        "print(next(i))"
      ],
      "execution_count": 58,
      "outputs": [
        {
          "output_type": "error",
          "ename": "StopIteration",
          "evalue": "ignored",
          "traceback": [
            "\u001b[0;31m---------------------------------------------------------------------------\u001b[0m",
            "\u001b[0;31mStopIteration\u001b[0m                             Traceback (most recent call last)",
            "\u001b[0;32m<ipython-input-58-58c5a451ce44>\u001b[0m in \u001b[0;36m<module>\u001b[0;34m()\u001b[0m\n\u001b[0;32m----> 1\u001b[0;31m \u001b[0mprint\u001b[0m\u001b[0;34m(\u001b[0m\u001b[0mnext\u001b[0m\u001b[0;34m(\u001b[0m\u001b[0mi\u001b[0m\u001b[0;34m)\u001b[0m\u001b[0;34m)\u001b[0m\u001b[0;34m\u001b[0m\u001b[0;34m\u001b[0m\u001b[0m\n\u001b[0m",
            "\u001b[0;32m<ipython-input-56-d563bcd80e6c>\u001b[0m in \u001b[0;36m__next__\u001b[0;34m(self)\u001b[0m\n\u001b[1;32m     16\u001b[0m             \u001b[0;32mreturn\u001b[0m \u001b[0mresult\u001b[0m\u001b[0;34m\u001b[0m\u001b[0;34m\u001b[0m\u001b[0m\n\u001b[1;32m     17\u001b[0m         \u001b[0;32melse\u001b[0m\u001b[0;34m:\u001b[0m\u001b[0;34m\u001b[0m\u001b[0;34m\u001b[0m\u001b[0m\n\u001b[0;32m---> 18\u001b[0;31m             \u001b[0;32mraise\u001b[0m \u001b[0mStopIteration\u001b[0m\u001b[0;34m\u001b[0m\u001b[0;34m\u001b[0m\u001b[0m\n\u001b[0m\u001b[1;32m     19\u001b[0m \u001b[0;34m\u001b[0m\u001b[0m\n\u001b[1;32m     20\u001b[0m \u001b[0;34m\u001b[0m\u001b[0m\n",
            "\u001b[0;31mStopIteration\u001b[0m: "
          ]
        }
      ]
    },
    {
      "cell_type": "markdown",
      "metadata": {
        "id": "Ol_ISVCmRrLj",
        "colab_type": "text"
      },
      "source": [
        "# Generator"
      ]
    },
    {
      "cell_type": "code",
      "metadata": {
        "id": "ySDGWVDaRWI3",
        "colab_type": "code",
        "colab": {
          "base_uri": "https://localhost:8080/",
          "height": 120
        },
        "outputId": "a6aa38af-ac85-48d9-bf32-fbc1a33b2f34"
      },
      "source": [
        "# A simple generator function\n",
        "def my_gen():\n",
        "    n = 1\n",
        "    print('This is printed first')\n",
        "    # Generator function contains yield statements\n",
        "    yield n\n",
        "\n",
        "    n += 1\n",
        "    print('This is printed second')\n",
        "    yield n\n",
        "\n",
        "    n += 1\n",
        "    print('This is printed at last')\n",
        "    yield n\n",
        "\n",
        "\n",
        "# Using for loop\n",
        "for item in my_gen():\n",
        "    print(item)"
      ],
      "execution_count": 59,
      "outputs": [
        {
          "output_type": "stream",
          "text": [
            "This is printed first\n",
            "1\n",
            "This is printed second\n",
            "2\n",
            "This is printed at last\n",
            "3\n"
          ],
          "name": "stdout"
        }
      ]
    },
    {
      "cell_type": "code",
      "metadata": {
        "id": "SnzUW6mITEu7",
        "colab_type": "code",
        "colab": {
          "base_uri": "https://localhost:8080/",
          "height": 103
        },
        "outputId": "3730b158-6b4b-45b5-aa9b-ea5b90f091f2"
      },
      "source": [
        "def rev_str(my_str):\n",
        "    length = len(my_str)\n",
        "    for i in range(length - 1, -1, -1):\n",
        "        yield my_str[i]\n",
        "\n",
        "\n",
        "# For loop to reverse the string\n",
        "for char in rev_str(\"hello\"):\n",
        "    print(char)\n"
      ],
      "execution_count": 60,
      "outputs": [
        {
          "output_type": "stream",
          "text": [
            "o\n",
            "l\n",
            "l\n",
            "e\n",
            "h\n"
          ],
          "name": "stdout"
        }
      ]
    },
    {
      "cell_type": "markdown",
      "metadata": {
        "id": "voB_hSb_S7Be",
        "colab_type": "text"
      },
      "source": [
        "# Decorator"
      ]
    },
    {
      "cell_type": "code",
      "metadata": {
        "id": "sFjR7-LCS-EJ",
        "colab_type": "code",
        "colab": {
          "base_uri": "https://localhost:8080/",
          "height": 54
        },
        "outputId": "faa69e6c-7983-473e-ea28-a3e6e26472fb"
      },
      "source": [
        "def first(msg):\n",
        "    print(msg)\n",
        "\n",
        "\n",
        "first(\"Hello\")\n",
        "\n",
        "second = first\n",
        "second(\"Hello\")"
      ],
      "execution_count": null,
      "outputs": [
        {
          "output_type": "stream",
          "text": [
            "Hello\n",
            "Hello\n"
          ],
          "name": "stdout"
        }
      ]
    },
    {
      "cell_type": "code",
      "metadata": {
        "id": "9fWE2g5AWzfL",
        "colab_type": "code",
        "colab": {}
      },
      "source": [
        "def say_hi():\n",
        "    print(\"Be Safe!\")"
      ],
      "execution_count": 61,
      "outputs": []
    },
    {
      "cell_type": "code",
      "metadata": {
        "id": "qos2npCUW2LP",
        "colab_type": "code",
        "colab": {
          "base_uri": "https://localhost:8080/",
          "height": 34
        },
        "outputId": "c058ce58-9d89-4424-a6af-59a54e8c6d9b"
      },
      "source": [
        "say_hi()"
      ],
      "execution_count": 62,
      "outputs": [
        {
          "output_type": "stream",
          "text": [
            "Be Safe!\n"
          ],
          "name": "stdout"
        }
      ]
    },
    {
      "cell_type": "code",
      "metadata": {
        "id": "vCIm6q1DV0La",
        "colab_type": "code",
        "colab": {}
      },
      "source": [
        "def my_decorator(func):\n",
        "    def add():\n",
        "        print(\"Something is happening before the function is called.\")\n",
        "        func()\n",
        "        print(\"Something is happening after the function is called.\")\n",
        "    return add\n",
        "\n",
        "def say_hi():\n",
        "    print(\"Be Safe!\")\n",
        "\n",
        "say_hi = my_decorator(say_hi)"
      ],
      "execution_count": 65,
      "outputs": []
    },
    {
      "cell_type": "code",
      "metadata": {
        "id": "6V0RGoMCQgra",
        "colab_type": "code",
        "colab": {}
      },
      "source": [
        ""
      ],
      "execution_count": null,
      "outputs": []
    },
    {
      "cell_type": "code",
      "metadata": {
        "id": "mUW6YrOPWH2X",
        "colab_type": "code",
        "colab": {
          "base_uri": "https://localhost:8080/",
          "height": 68
        },
        "outputId": "9b347704-49ab-4ae2-b6f9-3f2e38441e39"
      },
      "source": [
        "say_hi()\n"
      ],
      "execution_count": 66,
      "outputs": [
        {
          "output_type": "stream",
          "text": [
            "Something is happening before the function is called.\n",
            "Be Safe!\n",
            "Something is happening after the function is called.\n"
          ],
          "name": "stdout"
        }
      ]
    }
  ]
}